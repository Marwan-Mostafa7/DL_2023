{
 "cells": [
  {
   "attachments": {},
   "cell_type": "markdown",
   "metadata": {},
   "source": [
    "# Let's Build an Encoder (Part 2): \n",
    "# (Encoder Module) [Task 2]"
   ]
  },
  {
   "attachments": {},
   "cell_type": "markdown",
   "metadata": {},
   "source": [
    "### Recap of the Full process\n",
    "- Given a Corpus of Text (List of Sentences)\n",
    "- **Normalize** each sentence\n",
    "  - Lower case\n",
    "  - Lemmatization & Stemming\n",
    "  - Remove symbols\n",
    "- Apply **Tokenization** on the normalized sentence\n",
    "- Build **Vocabulary** of such Tokens\n",
    "- **Encode** the tokens given their IDs\n",
    "- Apply **Padding** on each Sequence of IDs"
   ]
  },
  {
   "attachments": {},
   "cell_type": "markdown",
   "metadata": {},
   "source": [
    "### Illustrative Figure For Encoder Pipeline"
   ]
  },
  {
   "attachments": {},
   "cell_type": "markdown",
   "metadata": {},
   "source": [
    "![Encoder-Pipeline](../imgs/Encoder-Pipeline.png)"
   ]
  },
  {
   "cell_type": "markdown",
   "metadata": {},
   "source": [
    "### Illustrative Questions 📝🙌"
   ]
  },
  {
   "cell_type": "markdown",
   "metadata": {},
   "source": [
    "- Why need to insert `review_series` as input to `Encoder`?\n",
    "  - To build the ***`vocab`, `w2i` & `i2w`***\n",
    "- What is the usage of `w2i` & `i2w`?\n",
    "  - `w2i` --> will be used within the `encode` method\n",
    "  - `i2w` --> will be used within the `decode` method\n",
    "- why need the **`decode`** method?\n",
    "  - Currently it has no need ... since the model will predict 1 or 0 (+ve or -ve)\n",
    "  - But If we are building a translation model ... then it will take a sequence of ids as input & outputs another sequence of ids (for the other language) \n",
    "    by which we should map (`decode`) them into tokens again ... to understand model output\n",
    "- Why need the **Padding & Truncation** method?\n",
    "  - To make all input (or given batch) having the same size before inserting it to the Model\n",
    "- What is the ***sequence for the encoder*** to process the data?\n",
    "  - 1: Initiate it `encoder = Encoder(df)` with input data-frame\n",
    "  - 2: Apply **pre-processing pipeline** on the review column into tokens\n",
    "  - 3: **Drop rows** which have less tokens than the `min_length`\n",
    "  - 4: Build `vocab`, `w2i` & `i2w` given such cleaned tokens\n",
    "  - 5: Now `encoder` instance ready to be sent to the `Dataset` module (Torch module)\n",
    "       which will be encoding the reviews one-by-one (or in the batch mode) using the \n",
    "       `encode_plus` method which apply Padding & Truncation of the given batch using the `max-length` parameter\n",
    "- How can we specifiy the `max-length`?\n",
    "  - Can be the mean or median length of the tokens\n",
    "  - For Best Practice ... make a plot which represents the ***distribution of the tokens' lengths*** of the given data ... and decide at which point we can select that parameter ... *where the majority of the reviews are less than such value*"
   ]
  },
  {
   "attachments": {},
   "cell_type": "markdown",
   "metadata": {},
   "source": [
    "### Import Packages"
   ]
  },
  {
   "cell_type": "code",
   "execution_count": null,
   "metadata": {},
   "outputs": [],
   "source": [
    "from itertools import chain\n",
    "import pandas  as pd\n",
    "import numpy as np\n",
    "from typing import List, Any\n",
    "import pandas as pd\n",
    "import numpy as np\n",
    "from utils import Constant as C\n",
    "from utils import preprocess_review\n",
    "\n",
    "import seaborn as sns\n",
    "import matplotlib.pyplot as plt \n",
    "%matplotlib inline"
   ]
  },
  {
   "cell_type": "markdown",
   "metadata": {},
   "source": [
    "### Encoder Class"
   ]
  },
  {
   "cell_type": "code",
   "execution_count": 38,
   "metadata": {},
   "outputs": [],
   "source": [
    "class Encoder():\n",
    "\n",
    "    def __init__(self, text_series: pd.Series, max_length: int) -> None:\n",
    "\n",
    "        self.text_series = text_series\n",
    "        self.max_length = max_length\n",
    "\n",
    "    def create_vocab(self) -> list:\n",
    "        \"\"\"Store the list of all unique tokens\n",
    "        Given the `text_series_tokenized` series, (created from the __call__ method ⬇⬇)\n",
    "        which should contain all reviews preprocessed & Tokenized\n",
    "        \"\"\"\n",
    "        self.vocab = ...\n",
    "\n",
    "    def create_w2i(self) -> dict:\n",
    "        \"\"\"Create mapping of tokens to digits\n",
    "        i.e.:\n",
    "            {\"[PAD]\": 0, \"[OOV]\":1, w_0: 2, w_1: 3, ...}\n",
    "        \"\"\"\n",
    "        self.w2i = ...\n",
    "\n",
    "    def create_i2w(self) -> dict:\n",
    "        \"\"\"Create mapping of digits to tokens\n",
    "        i.e.:\n",
    "            {0:\"[PAD]\", 1:\"[OOV]\", 2: w_0, 3: w_1, ...}\n",
    "        \"\"\"\n",
    "        self.i2w = ...\n",
    "\n",
    "    def pad_truncate(self, text_idxs: List[int], max_length: int) -> List[int]:\n",
    "        \"\"\"Apply Padding / Truncation of the encoded tokens based on the max-length param\n",
    "\n",
    "        Args:\n",
    "            text_idxs (List[int]): list of encoded tokens\n",
    "            max_length (int): max-length for all \n",
    "\n",
    "        Returns:\n",
    "            List[int]: list of encoded tokens with size max-length\n",
    "        \"\"\"\n",
    "        return ...\n",
    "\n",
    "    def encode(self, text_tokens: List[str]) -> List[int]:\n",
    "        \"\"\"Convert review string into list of encoded tokens (using the w2i dictionary)\n",
    "\n",
    "        Args:\n",
    "            text_tokens (List[str]): review tokens (aftore preprocessing done)\n",
    "\n",
    "        Returns:\n",
    "            List[int]: list of encoded tokens\n",
    "        \"\"\"\n",
    "        token_idxs = ...\n",
    "        return token_idxs\n",
    "\n",
    "    def encode_plus(self, text: str, max_len: int) -> List[int]:\n",
    "        \"\"\"Same as encode unless \n",
    "        - It takes a string (not list of tokens) so it needs to \n",
    "        - Apply the pre-processing methods\n",
    "        - then encode it into indices\n",
    "        - finally padd and truncate the sequence based on the `max_len` argument\n",
    "\n",
    "        Args:\n",
    "            text (str): user review\n",
    "            max_len (int): maximum number of tokens given the input review\n",
    "\n",
    "        Returns:\n",
    "            List[int]: list of padded & encoded tokens\n",
    "        \"\"\"\n",
    "\n",
    "        text_tokens_pdd = ...\n",
    "        return text_tokens_pdd\n",
    "\n",
    "    def decode(self, token_idxs: List[int], clean=False) -> List[str]:\n",
    "        \"\"\"Convert encoded tokens into words (using the i2w dictionary)\n",
    "\n",
    "        Args:\n",
    "            idxs (List[int]): list of token indices\n",
    "            clean (bool): flag whether to remove 'OOV' & 'PAD' from the results\n",
    "\n",
    "        Returns:\n",
    "            List[str]: list of words correspondigly\n",
    "        \"\"\"\n",
    "        if clean:\n",
    "            # remove OOV & PAD\n",
    "            return ...\n",
    "        # leave the special tokens as is\n",
    "        return ...\n",
    "\n",
    "    def __call__(self, *args: Any, **kwds: Any) -> Any:\n",
    "        # apply pre-processing on all the given input pd.Series\n",
    "        self.text_tokens_series = ...\n",
    "        # - Build the vocab\n",
    "        # Note: use the `text_tokens_series` variable to fetch all the unique words of the given series\n",
    "        ...\n",
    "        # Build the W2I\n",
    "        ...\n",
    "        # Build the I2W\n",
    "        ...\n",
    "\n",
    "        print(f\"Vocab Size= {len(self.vocab):,} Unique Token\")\n"
   ]
  },
  {
   "attachments": {},
   "cell_type": "markdown",
   "metadata": {},
   "source": [
    "### Reading Data\n",
    "You can download the dataset from the [Kaggle platform](https://www.kaggle.com/datasets/snap/amazon-fine-food-reviews)"
   ]
  },
  {
   "cell_type": "code",
   "execution_count": 40,
   "metadata": {},
   "outputs": [],
   "source": [
    "file_path = \"path/to/data/Reviews.csv\"\n",
    "df  = pd.read_csv(file_path)"
   ]
  },
  {
   "attachments": {},
   "cell_type": "markdown",
   "metadata": {},
   "source": [
    "### Simple Preprocessing\n",
    "- Choose the `Text` & `Score` columns only \n",
    "- Drop the Duplicates"
   ]
  },
  {
   "cell_type": "code",
   "execution_count": 41,
   "metadata": {},
   "outputs": [],
   "source": [
    "df = ..."
   ]
  },
  {
   "cell_type": "code",
   "execution_count": 53,
   "metadata": {},
   "outputs": [
    {
     "name": "stdout",
     "output_type": "stream",
     "text": [
      "There Exist 393,675 reviews\n"
     ]
    }
   ],
   "source": [
    "print(f\"There Exist {df.shape[0]:,} reviews\")"
   ]
  },
  {
   "attachments": {},
   "cell_type": "markdown",
   "metadata": {},
   "source": [
    "### Setting the `max-length` of the Encoder\n",
    "\n",
    "Here will be showing the distribution of the tokens to decide what value can be good enough for our encoder to stick with  \n",
    "\n",
    "Will make a simple Tokenizer just for plotting purposes\n",
    "- simply split the text into List of strings (using `.split()` method)\n",
    "- Create a new column (`Text_len`) which will hold the `length` of the tokens \n",
    "- Plot the Tokens Lengths Distribution using the `sns.distplot` seaborn method\n"
   ]
  },
  {
   "cell_type": "code",
   "execution_count": 43,
   "metadata": {},
   "outputs": [],
   "source": [
    "\n",
    "df['Text_len'] = ..."
   ]
  },
  {
   "attachments": {},
   "cell_type": "markdown",
   "metadata": {},
   "source": [
    "##### Plotting the Tokens' Distributions"
   ]
  },
  {
   "cell_type": "code",
   "execution_count": 54,
   "metadata": {},
   "outputs": [
    {
     "data": {
      "image/png": "[encoded data removed]",
      "text/plain": [
       "<Figure size 648x504 with 1 Axes>"
      ]
     },
     "metadata": {
      "needs_background": "light"
     },
     "output_type": "display_data"
    }
   ],
   "source": [
    "plt.subplots(figsize=(9, 7))\n",
    "sns.distplot(df[df['Text_len'] < df['Text_len'].quantile(0.9)]['Text_len'])\n",
    "plt.title(\"Tokens Distribution\")\n",
    "plt.show()"
   ]
  },
  {
   "cell_type": "code",
   "execution_count": 45,
   "metadata": {},
   "outputs": [
    {
     "data": {
      "text/plain": [
       "count    393675.000000\n",
       "mean         79.764803\n",
       "std          77.175283\n",
       "min           3.000000\n",
       "25%          34.000000\n",
       "50%          57.000000\n",
       "75%          97.000000\n",
       "max        3432.000000\n",
       "Name: Text_len, dtype: float64"
      ]
     },
     "execution_count": 45,
     "metadata": {},
     "output_type": "execute_result"
    }
   ],
   "source": [
    "df['Text_len'].describe()"
   ]
  },
  {
   "attachments": {},
   "cell_type": "markdown",
   "metadata": {},
   "source": [
    "Here we can see the tokens distribution, that setting the `median (57)` as the max-length of the Encoder will be a good choice, since the distribution is right skewed"
   ]
  },
  {
   "cell_type": "code",
   "execution_count": 46,
   "metadata": {},
   "outputs": [
    {
     "data": {
      "text/plain": [
       "57"
      ]
     },
     "execution_count": 46,
     "metadata": {},
     "output_type": "execute_result"
    }
   ],
   "source": [
    "max_length = int(df['Text_len'].quantile(0.5))\n",
    "max_length"
   ]
  },
  {
   "attachments": {},
   "cell_type": "markdown",
   "metadata": {},
   "source": [
    "### Call the Encoder Module"
   ]
  },
  {
   "cell_type": "code",
   "execution_count": 47,
   "metadata": {},
   "outputs": [],
   "source": [
    "encoder = ..."
   ]
  },
  {
   "cell_type": "code",
   "execution_count": 48,
   "metadata": {},
   "outputs": [
    {
     "name": "stdout",
     "output_type": "stream",
     "text": [
      "Vocab Size= 498,650 Unique Token\n"
     ]
    }
   ],
   "source": [
    "encoder()"
   ]
  },
  {
   "cell_type": "code",
   "execution_count": 49,
   "metadata": {},
   "outputs": [
    {
     "data": {
      "text/plain": [
       "array([ 74610, 146484, 492842,  18453, 381657, 137304,      0,      0,\n",
       "            0,      0,      0,      0,      0,      0,      0,      0,\n",
       "            0,      0,      0,      0,      0,      0,      0,      0,\n",
       "            0,      0,      0,      0,      0,      0,      0,      0,\n",
       "            0,      0,      0,      0,      0,      0,      0,      0,\n",
       "            0,      0,      0,      0,      0,      0,      0,      0,\n",
       "            0,      0,      0,      0,      0,      0,      0,      0,\n",
       "            0])"
      ]
     },
     "execution_count": 49,
     "metadata": {},
     "output_type": "execute_result"
    }
   ],
   "source": [
    "review_ex = \"The Food is pretty Delicious Isn't it :D love it\"\n",
    "token_enc = encoder.encode_plus(review_ex, max_length)\n",
    "token_enc"
   ]
  },
  {
   "cell_type": "code",
   "execution_count": 50,
   "metadata": {},
   "outputs": [
    {
     "data": {
      "text/plain": [
       "['food', 'pretty', 'delicious', \"isn't\", ':d', 'love']"
      ]
     },
     "execution_count": 50,
     "metadata": {},
     "output_type": "execute_result"
    }
   ],
   "source": [
    "encoder.decode(token_enc, clean=True)"
   ]
  },
  {
   "attachments": {},
   "cell_type": "markdown",
   "metadata": {},
   "source": [
    "## Awesome 🥳🎉\n",
    "Now That you had learned to ***build an Encoder from Scratch***, and knows all the nitty griddy parts to modify any Framework's tokenizers or encoders (i.e *TorchText, Spacy, tensorflow, transformers* ...etc)\n",
    "\n",
    "### Next Station 🚌⏭\n",
    "- Then will build an ***E2E Deep-Learning model using the Torch framework*** that predicts the sentiment given the user review Using our `Encoder` Module\n"
   ]
  }
 ],
 "metadata": {
  "kernelspec": {
   "display_name": "Python 3",
   "language": "python",
   "name": "python3"
  },
  "language_info": {
   "codemirror_mode": {
    "name": "ipython",
    "version": 3
   },
   "file_extension": ".py",
   "mimetype": "text/x-python",
   "name": "python",
   "nbconvert_exporter": "python",
   "pygments_lexer": "ipython3",
   "version": "3.7.2"
  },
  "orig_nbformat": 4,
  "vscode": {
   "interpreter": {
    "hash": "173b1ad0e598a21817c913127c0ed612d69b6c3d0fd1e8e7f3c7ab65a8d7b09a"
   }
  }
 },
 "nbformat": 4,
 "nbformat_minor": 2
}
