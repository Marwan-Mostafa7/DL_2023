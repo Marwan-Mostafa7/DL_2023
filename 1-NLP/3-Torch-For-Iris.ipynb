{
 "cells": [
  {
   "cell_type": "markdown",
   "metadata": {},
   "source": [
    "# PyTorch Intro\n",
    "![image.png](../imgs/torch_logo.png)"
   ]
  },
  {
   "cell_type": "markdown",
   "metadata": {},
   "source": [
    "## Template Structure\n",
    "![Template](../imgs/torch_template.png)\n"
   ]
  },
  {
   "cell_type": "markdown",
   "metadata": {},
   "source": [
    "## Iris Classification\n",
    "\n",
    "Given [Iris Dataset](https://archive.ics.uci.edu/dataset/53/iris)\n",
    "\n",
    "Build a ***Linear Neural Network*** Model to ***classify*** the flower whether it's a \n",
    "- Setosa\n",
    "- Versicolour\n",
    "- Virginica\n",
    "\n",
    "Given Input features\n",
    "- sepal length\n",
    "- sepal width\n",
    "- petal length\n",
    "- petal width"
   ]
  },
  {
   "cell_type": "markdown",
   "metadata": {},
   "source": [
    "# Imports"
   ]
  },
  {
   "cell_type": "code",
   "execution_count": 58,
   "metadata": {},
   "outputs": [],
   "source": [
    "import pandas as pd\n",
    "import numpy as np\n",
    "import torch\n",
    "import torch.nn as nn\n",
    "import torch.nn.functional as F\n",
    "from torch.utils.data import DataLoader\n",
    "from torch.optim import AdamW\n",
    "from tqdm import tqdm\n",
    "from sklearn.model_selection import train_test_split"
   ]
  },
  {
   "cell_type": "markdown",
   "metadata": {},
   "source": [
    "### Reading Dataset"
   ]
  },
  {
   "cell_type": "code",
   "execution_count": null,
   "metadata": {},
   "outputs": [
    {
     "data": {
      "text/html": [
       "<div>\n",
       "<style scoped>\n",
       "    .dataframe tbody tr th:only-of-type {\n",
       "        vertical-align: middle;\n",
       "    }\n",
       "\n",
       "    .dataframe tbody tr th {\n",
       "        vertical-align: top;\n",
       "    }\n",
       "\n",
       "    .dataframe thead th {\n",
       "        text-align: right;\n",
       "    }\n",
       "</style>\n",
       "<table border=\"1\" class=\"dataframe\">\n",
       "  <thead>\n",
       "    <tr style=\"text-align: right;\">\n",
       "      <th></th>\n",
       "      <th>sepal_length</th>\n",
       "      <th>sepal_width</th>\n",
       "      <th>petal_length</th>\n",
       "      <th>petal_width</th>\n",
       "      <th>species</th>\n",
       "    </tr>\n",
       "  </thead>\n",
       "  <tbody>\n",
       "    <tr>\n",
       "      <th>0</th>\n",
       "      <td>5.1</td>\n",
       "      <td>3.5</td>\n",
       "      <td>1.4</td>\n",
       "      <td>0.2</td>\n",
       "      <td>Iris-setosa</td>\n",
       "    </tr>\n",
       "    <tr>\n",
       "      <th>1</th>\n",
       "      <td>4.9</td>\n",
       "      <td>3.0</td>\n",
       "      <td>1.4</td>\n",
       "      <td>0.2</td>\n",
       "      <td>Iris-setosa</td>\n",
       "    </tr>\n",
       "    <tr>\n",
       "      <th>2</th>\n",
       "      <td>4.7</td>\n",
       "      <td>3.2</td>\n",
       "      <td>1.3</td>\n",
       "      <td>0.2</td>\n",
       "      <td>Iris-setosa</td>\n",
       "    </tr>\n",
       "    <tr>\n",
       "      <th>3</th>\n",
       "      <td>4.6</td>\n",
       "      <td>3.1</td>\n",
       "      <td>1.5</td>\n",
       "      <td>0.2</td>\n",
       "      <td>Iris-setosa</td>\n",
       "    </tr>\n",
       "    <tr>\n",
       "      <th>4</th>\n",
       "      <td>5.0</td>\n",
       "      <td>3.6</td>\n",
       "      <td>1.4</td>\n",
       "      <td>0.2</td>\n",
       "      <td>Iris-setosa</td>\n",
       "    </tr>\n",
       "  </tbody>\n",
       "</table>\n",
       "</div>"
      ],
      "text/plain": [
       "   sepal_length  sepal_width  petal_length  petal_width      species\n",
       "0           5.1          3.5           1.4          0.2  Iris-setosa\n",
       "1           4.9          3.0           1.4          0.2  Iris-setosa\n",
       "2           4.7          3.2           1.3          0.2  Iris-setosa\n",
       "3           4.6          3.1           1.5          0.2  Iris-setosa\n",
       "4           5.0          3.6           1.4          0.2  Iris-setosa"
      ]
     },
     "metadata": {},
     "output_type": "display_data"
    }
   ],
   "source": [
    "df = pd.read_csv('../data/iris.csv')\n",
    "df.head()"
   ]
  },
  {
   "cell_type": "markdown",
   "metadata": {},
   "source": [
    "### Dataset"
   ]
  },
  {
   "cell_type": "code",
   "execution_count": null,
   "metadata": {},
   "outputs": [],
   "source": [
    "class Dataset:\n",
    "    def __init__(self) -> None:\n",
    "        pass\n",
    "\n",
    "    def __len__(self):\n",
    "        pass\n",
    "\n",
    "    def __getitem__(self, item):\n",
    "        pass"
   ]
  },
  {
   "cell_type": "markdown",
   "metadata": {},
   "source": [
    "### Model"
   ]
  },
  {
   "cell_type": "code",
   "execution_count": 2,
   "metadata": {},
   "outputs": [],
   "source": [
    "class IrisNet(nn.Module):\n",
    "    def __init__(self) -> None:\n",
    "        super().__init__()\n",
    "    \n",
    "    def forward(self, x):\n",
    "        pass"
   ]
  },
  {
   "cell_type": "markdown",
   "metadata": {},
   "source": [
    "### Engine"
   ]
  },
  {
   "cell_type": "code",
   "execution_count": 146,
   "metadata": {},
   "outputs": [],
   "source": [
    "def train_fn(batches, model, optim, loss_fn):\n",
    "\n",
    "    # Activating the model layers for training process\n",
    "    ...\n",
    "    # `ep_loss` variable for tracking the loss of the given epoch\n",
    "    ...\n",
    "    for batch in tqdm(batches):\n",
    "        # fetching X,y from the given batch\n",
    "        ...\n",
    "        # Forward propagation\n",
    "        ...\n",
    "        # Calculating loss\n",
    "        ...\n",
    "        # Backward Propagation\n",
    "        # Clean gradients\n",
    "        ...\n",
    "        # Accumulate the loss gradients\n",
    "        ...\n",
    "        # Adjust model parameters (move in the opposite direction of the gradient)\n",
    "        ...\n",
    "        # Epoch loss accumulation --> `ep_loss`\n",
    "        ...\n",
    "    return 'ep_loss'\n",
    "\n",
    "def eval_fn(batches, model, loss_fn):\n",
    "    # Here just forward propagation, therefore no optimizer is needed\n",
    "    # Deactivating Some model layers for the evaluation process\n",
    "    ...\n",
    "    return 'ep_loss'"
   ]
  },
  {
   "cell_type": "markdown",
   "metadata": {},
   "source": [
    "### Configs"
   ]
  },
  {
   "cell_type": "code",
   "execution_count": null,
   "metadata": {},
   "outputs": [],
   "source": [
    "# Learning Rate | Number of Epochs | Batch Size | Loss Function\n",
    "LR = 0.01\n",
    "EPOCHS = 5\n",
    "BATCH_SIZE = 5\n",
    "criterion = nn.CrossEntropyLoss()\n",
    "INP_DIM = 4 \n",
    "OUT_DIM = 3\n",
    "# Model & Optimizer\n",
    "model = IrisNet(INP_DIM, OUT_DIM)\n",
    "optimizer = torch.optim.AdamW(model.parameters(), lr=LR) "
   ]
  },
  {
   "cell_type": "markdown",
   "metadata": {},
   "source": [
    "### Data Preparation"
   ]
  },
  {
   "cell_type": "code",
   "execution_count": 169,
   "metadata": {},
   "outputs": [],
   "source": [
    "# Splitting into Train & Test\n",
    "train_df, eval_df = train_test_split(df, test_size=0.2)\n",
    "train_dataset, eval_dataset = Dataset(train_df.reset_index(drop=True), 'species_enc'), Dataset(eval_df.reset_index(drop=True), 'species_enc')\n",
    "train_batches = DataLoader(train_dataset, batch_size=BATCH_SIZE, shuffle=True) #num_workers=NUM_WORKERS\n",
    "eval_batches = DataLoader(eval_dataset, batch_size=BATCH_SIZE, shuffle=False) #num_workers=NUM_WORKERS"
   ]
  },
  {
   "cell_type": "markdown",
   "metadata": {},
   "source": [
    "### Training Loop"
   ]
  },
  {
   "cell_type": "code",
   "execution_count": 170,
   "metadata": {},
   "outputs": [
    {
     "name": "stderr",
     "output_type": "stream",
     "text": [
      "100%|██████████| 24/24 [00:00<00:00, 272.73it/s]\n",
      "100%|██████████| 6/6 [00:00<00:00, 352.95it/s]\n"
     ]
    },
    {
     "name": "stdout",
     "output_type": "stream",
     "text": [
      "Epoch: 0/5 || \n",
      "Train Loss: 17.88 || Train Accuracy: 0.33 \n",
      "Eval Loss: 2.30 || Eval Accuracy: 0.33\n"
     ]
    },
    {
     "name": "stderr",
     "output_type": "stream",
     "text": [
      "100%|██████████| 24/24 [00:00<00:00, 214.29it/s]\n",
      "100%|██████████| 6/6 [00:00<00:00, 375.00it/s]\n"
     ]
    },
    {
     "name": "stdout",
     "output_type": "stream",
     "text": [
      "Epoch: 1/5 || \n",
      "Train Loss: 7.47 || Train Accuracy: 0.33 \n",
      "Eval Loss: 0.94 || Eval Accuracy: 0.33\n"
     ]
    },
    {
     "name": "stderr",
     "output_type": "stream",
     "text": [
      "100%|██████████| 24/24 [00:00<00:00, 196.72it/s]\n",
      "100%|██████████| 6/6 [00:00<00:00, 333.38it/s]\n"
     ]
    },
    {
     "name": "stdout",
     "output_type": "stream",
     "text": [
      "Epoch: 2/5 || \n",
      "Train Loss: 6.63 || Train Accuracy: 0.33 \n",
      "Eval Loss: 0.79 || Eval Accuracy: 0.33\n"
     ]
    },
    {
     "name": "stderr",
     "output_type": "stream",
     "text": [
      "100%|██████████| 24/24 [00:00<00:00, 176.47it/s]\n",
      "100%|██████████| 6/6 [00:00<00:00, 300.01it/s]\n"
     ]
    },
    {
     "name": "stdout",
     "output_type": "stream",
     "text": [
      "Epoch: 3/5 || \n",
      "Train Loss: 10.97 || Train Accuracy: 0.33 \n",
      "Eval Loss: 1.46 || Eval Accuracy: 0.33\n"
     ]
    },
    {
     "name": "stderr",
     "output_type": "stream",
     "text": [
      "100%|██████████| 24/24 [00:00<00:00, 132.60it/s]\n",
      "100%|██████████| 6/6 [00:00<00:00, 176.46it/s]"
     ]
    },
    {
     "name": "stdout",
     "output_type": "stream",
     "text": [
      "Epoch: 4/5 || \n",
      "Train Loss: 4.96 || Train Accuracy: 0.33 \n",
      "Eval Loss: 0.46 || Eval Accuracy: 0.33\n"
     ]
    },
    {
     "name": "stderr",
     "output_type": "stream",
     "text": [
      "\n"
     ]
    }
   ],
   "source": [
    "for epoch in range(EPOCHS):\n",
    "    ep_train_loss, ep_train_acc = train_fn(train_batches, model, optim=optimizer, loss_fn=criterion)\n",
    "    ep_eval_loss, ep_eval_acc = eval_fn(eval_batches, model, loss_fn=criterion)\n",
    "    print(\n",
    "        f\"Epoch: {epoch}/{EPOCHS} || \"\n",
    "        f\"\\nTrain Loss: {ep_train_loss:.2f} || Train Accuracy: {ep_train_acc:.2f}\"\n",
    "        f\"\\nEval Loss: {ep_eval_loss:.2f} || Eval Accuracy: {ep_eval_acc:.2f}\"\n",
    "        )"
   ]
  },
  {
   "cell_type": "markdown",
   "metadata": {},
   "source": [
    "### Great Work 🥳"
   ]
  },
  {
   "cell_type": "markdown",
   "metadata": {},
   "source": [
    "Currently as you have understanded the core parts of the **Torch** Structure  \n",
    "Next Lecture will be working on the **RNN/GRU/LSTM** cells using **PyTorch**, as **Food-Review Project** will requires a ***recurrent neural network***"
   ]
  }
 ],
 "metadata": {
  "kernelspec": {
   "display_name": "ad_img",
   "language": "python",
   "name": "ad_img"
  },
  "language_info": {
   "codemirror_mode": {
    "name": "ipython",
    "version": 3
   },
   "file_extension": ".py",
   "mimetype": "text/x-python",
   "name": "python",
   "nbconvert_exporter": "python",
   "pygments_lexer": "ipython3",
   "version": "3.7.2"
  },
  "vscode": {
   "interpreter": {
    "hash": "c3ad9b97a804b08ecde57791f38ff98027a59ae53cff71cbf060ecad5cdb318e"
   }
  }
 },
 "nbformat": 4,
 "nbformat_minor": 2
}
